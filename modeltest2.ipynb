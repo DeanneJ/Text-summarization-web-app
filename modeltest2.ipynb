{
 "cells": [
  {
   "cell_type": "code",
   "execution_count": 1,
   "metadata": {},
   "outputs": [
    {
     "name": "stderr",
     "output_type": "stream",
     "text": [
      "d:\\softwares\\Anaconda\\Lib\\site-packages\\sentence_transformers\\cross_encoder\\CrossEncoder.py:11: TqdmExperimentalWarning: Using `tqdm.autonotebook.tqdm` in notebook mode. Use `tqdm.tqdm` instead to force console mode (e.g. in jupyter console)\n",
      "  from tqdm.autonotebook import tqdm, trange\n"
     ]
    },
    {
     "name": "stdout",
     "output_type": "stream",
     "text": [
      "WARNING:tensorflow:From d:\\softwares\\Anaconda\\Lib\\site-packages\\tf_keras\\src\\losses.py:2976: The name tf.losses.sparse_softmax_cross_entropy is deprecated. Please use tf.compat.v1.losses.sparse_softmax_cross_entropy instead.\n",
      "\n"
     ]
    }
   ],
   "source": [
    "import spacy\n",
    "from spacy.lang.en.stop_words import STOP_WORDS\n",
    "import string\n",
    "from heapq import nlargest # Function to extract the largest values from a collection\n",
    "from collections import Counter  # Used for counting word frequencies\n",
    "from sklearn.feature_extraction.text import TfidfVectorizer\n",
    "from rake_nltk import Rake #extracting keywords\n",
    "from sklearn.metrics.pairwise import cosine_similarity\n",
    "from sentence_transformers import SentenceTransformer"
   ]
  },
  {
   "cell_type": "code",
   "execution_count": 2,
   "metadata": {},
   "outputs": [],
   "source": [
    "# Load spaCy model\n",
    "nlp = spacy.load(\"en_core_web_sm\")"
   ]
  },
  {
   "cell_type": "code",
   "execution_count": 3,
   "metadata": {},
   "outputs": [
    {
     "name": "stderr",
     "output_type": "stream",
     "text": [
      "d:\\softwares\\Anaconda\\Lib\\site-packages\\transformers\\tokenization_utils_base.py:1601: FutureWarning: `clean_up_tokenization_spaces` was not set. It will be set to `True` by default. This behavior will be depracted in transformers v4.45, and will be then set to `False` by default. For more details check this issue: https://github.com/huggingface/transformers/issues/31884\n",
      "  warnings.warn(\n"
     ]
    }
   ],
   "source": [
    "# Load SentenceTransformer model for BERT embeddings\n",
    "bert_model = SentenceTransformer('all-MiniLM-L6-v2')"
   ]
  },
  {
   "cell_type": "code",
   "execution_count": 4,
   "metadata": {},
   "outputs": [],
   "source": [
    "# Define stop words and punctuation\n",
    "stopwords = list(STOP_WORDS)\n",
    "punctuation = string.punctuation + \"\\n\""
   ]
  },
  {
   "cell_type": "code",
   "execution_count": 5,
   "metadata": {},
   "outputs": [],
   "source": [
    "def word_frequency(doc):\n",
    "    \"\"\"Calculates word frequency in a document\"\"\"\n",
    "    word_counts = Counter()\n",
    "    for word in doc:\n",
    "        if word.text.lower() not in stopwords and word.text.lower() not in punctuation:\n",
    "            word_counts[word.text.lower()] += 1\n",
    "    return word_counts"
   ]
  },
  {
   "cell_type": "code",
   "execution_count": 6,
   "metadata": {},
   "outputs": [],
   "source": [
    "def sentence_score(sentence_tokens, word_frequencies):\n",
    "    \"\"\"Scores sentences based on word frequencies\"\"\"\n",
    "    scores = {}\n",
    "    for sent in sentence_tokens:\n",
    "        score = 0\n",
    "        for word in sent:\n",
    "            if word.text.lower() in word_frequencies:\n",
    "                score += word_frequencies[word.text.lower()]\n",
    "        scores[sent.text] = score\n",
    "    return scores"
   ]
  },
  {
   "cell_type": "code",
   "execution_count": 7,
   "metadata": {},
   "outputs": [],
   "source": [
    "def lexrank(sentences):\n",
    "    \"\"\"LexRank implementation for sentence ranking\"\"\"\n",
    "    #  ranks sentences based on their importance within the text \n",
    "    # Placeholder for LexRank implementation\n",
    "    # Return a dummy score for each sentence\n",
    "    return {sent: 1 for sent in sentences}  # Dummy implementation"
   ]
  },
  {
   "cell_type": "code",
   "execution_count": 8,
   "metadata": {},
   "outputs": [],
   "source": [
    "def tfidf_ranking(sentences, vectorizer):\n",
    "    \"\"\"TF-IDF-based ranking\"\"\"\n",
    "    vectors = vectorizer.fit_transform(sentences)\n",
    "    scores = (vectors * vectors.T).diagonal()\n",
    "    return scores"
   ]
  },
  {
   "cell_type": "code",
   "execution_count": 9,
   "metadata": {},
   "outputs": [],
   "source": [
    "def extract_keywords(text):\n",
    "    \"\"\"Keyword extraction using RAKE\"\"\"\n",
    "    rake = Rake()\n",
    "    rake.extract_keywords_from_text(text)\n",
    "    return rake.get_ranked_phrases()"
   ]
  },
  {
   "cell_type": "code",
   "execution_count": 10,
   "metadata": {},
   "outputs": [],
   "source": [
    "def generate_heading(keywords, summary):\n",
    "    \"\"\"Generate a suitable heading based on keywords and summary\"\"\"\n",
    "    keyword_str = ' '.join(keywords)\n",
    "    heading = f\"Summary: {keyword_str[:50]}...\"  # Generate a simple heading based on keywords\n",
    "    return heading"
   ]
  },
  {
   "cell_type": "code",
   "execution_count": 11,
   "metadata": {},
   "outputs": [],
   "source": [
    "def bert_similarity(sentences):\n",
    "    \"\"\"BERT-based similarity scoring\"\"\"\n",
    "    embeddings = bert_model.encode(sentences)\n",
    "    similarity_matrix = cosine_similarity(embeddings)\n",
    "    return similarity_matrix.diagonal()"
   ]
  },
  {
   "cell_type": "code",
   "execution_count": 12,
   "metadata": {},
   "outputs": [],
   "source": [
    "def summarize(text):\n",
    "    \"\"\"Summarizes the text with improved ranking and heading generation\"\"\"\n",
    "    doc = nlp(text)\n",
    "    word_frequencies = word_frequency(doc)\n",
    "    sentence_tokens = [sent.text for sent in doc.sents]\n",
    "    \n",
    "    # Score sentences\n",
    "    sentence_objects = [sent for sent in doc.sents]\n",
    "    sentence_scores = sentence_score(sentence_objects, word_frequencies)\n",
    "\n",
    "    # Combine LexRank and TF-IDF for sentence ranking\n",
    "    lexrank_scores = lexrank(sentence_tokens)\n",
    "    tfidf_vectorizer = TfidfVectorizer()\n",
    "    tfidf_scores = tfidf_ranking(sentence_tokens, tfidf_vectorizer)\n",
    "    bert_scores = bert_similarity(sentence_tokens)\n",
    "    \n",
    "    # Ensure all scores are aligned\n",
    "    combined_scores = {}\n",
    "    for i, sent in enumerate(sentence_tokens):\n",
    "        if i < len(lexrank_scores) and i < len(tfidf_scores) and i < len(bert_scores):\n",
    "            combined_scores[sent] = lexrank_scores.get(sent, 0) * tfidf_scores[i] * bert_scores[i]\n",
    "\n",
    "    # Select top sentences based on combined scores\n",
    "    summary_length = 3  # Adjust number of sentences for summary\n",
    "    summary_sentences = nlargest(summary_length, combined_scores, key=combined_scores.get)\n",
    "\n",
    "    # Extract keywords\n",
    "    keywords = extract_keywords(text)\n",
    "\n",
    "    # Generate heading\n",
    "    heading = generate_heading(keywords, summary_sentences)\n",
    "\n",
    "    # Calculate word counts\n",
    "    original_word_count = len(text.split())\n",
    "    summary_word_count = len(\" \".join(summary_sentences).split())\n",
    "\n",
    "    return heading, \" \".join(summary_sentences), original_word_count, summary_word_count"
   ]
  },
  {
   "cell_type": "code",
   "execution_count": 14,
   "metadata": {},
   "outputs": [
    {
     "name": "stdout",
     "output_type": "stream",
     "text": [
      "Heading: Summary: factory workers often faced long hours cities also...\n",
      "Summary: Driven by technological advancements, such as the steam engine and the spinning jenny, factories replaced farms as the primary economic centers. Despite these difficulties, cities also offered new opportunities and cultural experiences. Industrial waste and pollution also caused environmental damage.\n",
      "Original Word Count: 374\n",
      "Summary Word Count: 40\n"
     ]
    }
   ],
   "source": [
    "# Example usage\n",
    "text = \"The Industrial Revolution marked a significant turning point in human history, characterized by the shift from agrarian economies to industrial ones. Driven by technological advancements, such as the steam engine and the spinning jenny, factories replaced farms as the primary economic centers. This transformation led to rapid urbanization, increased production efficiency, and improved living standards for some. However, it also exacerbated social inequalities and environmental problems.One of the most profound impacts of the Industrial Revolution was the urbanization of societies. As people migrated from rural areas to cities in search of work, cities grew at an unprecedented rate. This rapid urbanization created numerous challenges, including overcrowding, pollution, and inadequate infrastructure. Despite these difficulties, cities also offered new opportunities and cultural experiences.The Industrial Revolution also led to significant advancements in technology and production methods. The invention of the steam engine revolutionized transportation and manufacturing, enabling factories to produce goods on a massive scale. The spinning jenny and other textile machines increased the efficiency of textile production, leading to a decline in the cost of clothing. These technological advancements contributed to a rise in living standards for many people, as they had access to more affordable goods and services.However, the Industrial Revolution also had negative consequences. The shift from a rural to an industrial society led to increased social inequalities. Factory workers often faced long hours, low wages, and dangerous working conditions. Child labor was widespread, as children were exploited for their cheap labor. These social problems contributed to the rise of labor movements and social reforms.In addition to social inequalities, the Industrial Revolution also had a significant impact on the environment. The burning of fossil fuels for energy released large amounts of greenhouse gases into the atmosphere, contributing to climate change. Industrial waste and pollution also caused environmental damage. These environmental problems continue to be major challenges facing society today.In conclusion, the Industrial Revolution was a transformative period in human history. It brought about significant changes in society, technology, and the economy. While it led to improvements in living standards for some, it also exacerbated social inequalities and environmental problems. The legacy of the Industrial Revolution continues to shape our world today, and addressing the challenges it created remains a crucial task for future generations.\"\n",
    "\n",
    "\n",
    "heading, summary, original_word_count, summary_word_count = summarize(text)\n",
    "\n",
    "print(\"Heading:\", heading)\n",
    "print(\"Summary:\", summary)\n",
    "print(\"Original Word Count:\", original_word_count)\n",
    "print(\"Summary Word Count:\", summary_word_count)"
   ]
  },
  {
   "cell_type": "code",
   "execution_count": null,
   "metadata": {},
   "outputs": [],
   "source": []
  }
 ],
 "metadata": {
  "kernelspec": {
   "display_name": "base",
   "language": "python",
   "name": "python3"
  },
  "language_info": {
   "codemirror_mode": {
    "name": "ipython",
    "version": 3
   },
   "file_extension": ".py",
   "mimetype": "text/x-python",
   "name": "python",
   "nbconvert_exporter": "python",
   "pygments_lexer": "ipython3",
   "version": "3.12.4"
  }
 },
 "nbformat": 4,
 "nbformat_minor": 2
}
